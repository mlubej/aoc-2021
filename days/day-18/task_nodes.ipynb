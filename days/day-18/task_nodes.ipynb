{
 "cells": [
  {
   "cell_type": "code",
   "execution_count": 10,
   "metadata": {},
   "outputs": [],
   "source": [
    "import numpy as np\n",
    "import pandas as pd\n",
    "from aocd import get_data, submit\n",
    "from utils import magnitude\n",
    "\n",
    "DAY = 18\n",
    "YEAR = 2021\n",
    "\n",
    "data = get_data(day=DAY, year=YEAR)\n",
    "# print(data)"
   ]
  },
  {
   "cell_type": "code",
   "execution_count": 11,
   "metadata": {},
   "outputs": [],
   "source": [
    "def process(data):\n",
    "    return [eval(d) for d in data.split(\"\\n\")]\n",
    "\n",
    "\n",
    "data = process(data)"
   ]
  },
  {
   "cell_type": "markdown",
   "metadata": {},
   "source": [
    "# Part 1"
   ]
  },
  {
   "cell_type": "code",
   "execution_count": 12,
   "metadata": {},
   "outputs": [],
   "source": [
    "class Node:\n",
    "    def __init__(self, data, depth=0, parent=None):\n",
    "        self.left = None\n",
    "        self.right = None\n",
    "        self.depth = depth\n",
    "        self.parent = parent\n",
    "        self.value = None\n",
    "\n",
    "        if isinstance(data, int):\n",
    "            self.value = data\n",
    "        else:\n",
    "            self.left = Node(data[0], depth=depth + 1, parent=self)\n",
    "            self.right = Node(data[1], depth=depth + 1, parent=self)\n",
    "\n",
    "    def __repr__(self):\n",
    "        if self.value is not None:\n",
    "            return str(self.value)\n",
    "        return f\"{[self.left, self.right]}\"\n",
    "\n",
    "    def add(self, data):\n",
    "        return Node([self.data(), data])\n",
    "\n",
    "    def data(self):\n",
    "        return calc_data(self)\n",
    "\n",
    "    def reduce(self):\n",
    "        reduce_node(self)\n",
    "        return Node(self.data())\n",
    "\n",
    "    def explode(self):\n",
    "        explode_node(self)\n",
    "        return Node(self.data())\n",
    "\n",
    "    def split(self):\n",
    "        split_node(self)\n",
    "        return Node(self.data())\n",
    "\n",
    "    def magnitude(self):\n",
    "        return magnitude(self)\n",
    "\n",
    "\n",
    "def find_nearest_leaf_node(node, left=True):\n",
    "    parent = node.parent\n",
    "    if parent is None:\n",
    "        return None\n",
    "\n",
    "    # going up\n",
    "    prev = node\n",
    "    while True:\n",
    "        if parent is None:\n",
    "            return None\n",
    "        if (left and parent.left == prev) or (not left and parent.right == prev):\n",
    "            prev = parent\n",
    "            parent = parent.parent\n",
    "        else:\n",
    "            break\n",
    "\n",
    "    # going down:\n",
    "    leaf = parent.left if left else parent.right\n",
    "    while (left and leaf.right is not None) or (not left and leaf.left is not None):\n",
    "        leaf = leaf.right if left else leaf.left\n",
    "\n",
    "    return leaf\n",
    "\n",
    "\n",
    "def explode_node(node, exploded=False):\n",
    "    if not node or exploded:\n",
    "        return exploded\n",
    "\n",
    "    if node.depth == 4 and node.value is None and not exploded:\n",
    "        left = find_nearest_leaf_node(node, True)\n",
    "        right = find_nearest_leaf_node(node, False)\n",
    "        if left is not None:\n",
    "            left.value += node.left.value\n",
    "        if right is not None:\n",
    "            right.value += node.right.value\n",
    "        node.left, node.right, node.value = None, None, 0\n",
    "        return True\n",
    "\n",
    "    exploded = explode_node(node.left, exploded)\n",
    "    exploded = explode_node(node.right, exploded)\n",
    "    return exploded\n",
    "\n",
    "\n",
    "def split_node(node, splitted=False):\n",
    "    if not node or splitted:\n",
    "        return splitted\n",
    "\n",
    "    if node.value is not None and node.value >= 10 and not splitted:\n",
    "        node.left = Node(node.value // 2, depth=node.depth + 1, parent=node)\n",
    "        node.right = Node((node.value + 1) // 2, depth=node.depth + 1, parent=node)\n",
    "        node.value = None\n",
    "        return True\n",
    "\n",
    "    splitted = split_node(node.left, splitted)\n",
    "    splitted = split_node(node.right, splitted)\n",
    "    return splitted\n",
    "\n",
    "\n",
    "def reduce_node(node):\n",
    "    while True:\n",
    "        exploded = explode_node(node)\n",
    "        if not exploded:\n",
    "            splitted = split_node(node)\n",
    "            if not splitted:\n",
    "                break\n",
    "\n",
    "\n",
    "def calc_data(node):\n",
    "    if node.value is not None:\n",
    "        return node.value\n",
    "\n",
    "    return [calc_data(node.left), calc_data(node.right)]\n",
    "\n",
    "\n",
    "def magnitude(node):\n",
    "    if node.value is not None:\n",
    "        return node.value\n",
    "    else:\n",
    "        left = magnitude(node.left)\n",
    "        right = magnitude(node.right)\n",
    "        return 3 * left + 2 * right"
   ]
  },
  {
   "cell_type": "code",
   "execution_count": 13,
   "metadata": {},
   "outputs": [],
   "source": [
    "from utils import explode as explode_str\n",
    "from utils import reduce_number\n",
    "from utils import split as split_str"
   ]
  },
  {
   "cell_type": "code",
   "execution_count": 14,
   "metadata": {},
   "outputs": [
    {
     "data": {
      "text/plain": [
       "4323"
      ]
     },
     "execution_count": 14,
     "metadata": {},
     "output_type": "execute_result"
    }
   ],
   "source": [
    "total = Node(data[0])\n",
    "for d in data[1:]:\n",
    "    total = total.add(d).reduce()\n",
    "\n",
    "result = total.magnitude()\n",
    "result"
   ]
  },
  {
   "cell_type": "code",
   "execution_count": 4,
   "metadata": {},
   "outputs": [
    {
     "name": "stdout",
     "output_type": "stream",
     "text": [
      "That's the right answer!  You are one gold star closer to finding the sleigh keys. [Continue to Part Two]\n"
     ]
    },
    {
     "data": {
      "text/plain": [
       "<Response [200]>"
      ]
     },
     "execution_count": 4,
     "metadata": {},
     "output_type": "execute_result"
    }
   ],
   "source": [
    "# submit(result, part=\"a\", day=DAY, year=YEAR)"
   ]
  },
  {
   "cell_type": "markdown",
   "metadata": {},
   "source": [
    "# Part 2"
   ]
  },
  {
   "cell_type": "code",
   "execution_count": 15,
   "metadata": {},
   "outputs": [
    {
     "data": {
      "text/plain": [
       "4749"
      ]
     },
     "execution_count": 15,
     "metadata": {},
     "output_type": "execute_result"
    }
   ],
   "source": [
    "values = []\n",
    "for idx in range(len(data)):\n",
    "    for jdx in range(idx + 1, len(data)):\n",
    "        values.append(Node(data[idx]).add(data[jdx]).reduce().magnitude())\n",
    "        values.append(Node(data[jdx]).add(data[idx]).reduce().magnitude())\n",
    "\n",
    "result = values[np.argmax(values)]\n",
    "result"
   ]
  },
  {
   "cell_type": "code",
   "execution_count": 17,
   "metadata": {},
   "outputs": [
    {
     "name": "stdout",
     "output_type": "stream",
     "text": [
      "That's the right answer!  You are one gold star closer to finding the sleigh keys.You have completed Day 18! You can [Shareon\n",
      "  Twitter\n",
      "Mastodon] this victory or [Return to Your Advent Calendar].\n"
     ]
    },
    {
     "data": {
      "text/plain": [
       "<Response [200]>"
      ]
     },
     "execution_count": 17,
     "metadata": {},
     "output_type": "execute_result"
    }
   ],
   "source": [
    "# submit(result, part=\"b\", day=DAY, year=YEAR)"
   ]
  }
 ],
 "metadata": {
  "kernelspec": {
   "display_name": "Python 3.10.4 64-bit ('aoc-2022')",
   "language": "python",
   "name": "python3"
  },
  "language_info": {
   "codemirror_mode": {
    "name": "ipython",
    "version": 3
   },
   "file_extension": ".py",
   "mimetype": "text/x-python",
   "name": "python",
   "nbconvert_exporter": "python",
   "pygments_lexer": "ipython3",
   "version": "3.10.4"
  },
  "orig_nbformat": 4,
  "vscode": {
   "interpreter": {
    "hash": "5624460fa9e1cd9da4e6994541d8ff42604db2bd2a1d59618c452d0f7bde50e7"
   }
  }
 },
 "nbformat": 4,
 "nbformat_minor": 2
}
