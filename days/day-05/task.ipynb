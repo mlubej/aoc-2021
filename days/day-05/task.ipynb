{
 "cells": [
  {
   "cell_type": "code",
   "execution_count": 10,
   "metadata": {},
   "outputs": [],
   "source": [
    "# imports\n",
    "import re\n",
    "\n",
    "import numpy as np\n",
    "import pandas as pd"
   ]
  },
  {
   "cell_type": "code",
   "execution_count": 11,
   "metadata": {},
   "outputs": [],
   "source": [
    "# inputs\n",
    "test_data = open(\"input-test.txt\").read().split(\"\\n\")\n",
    "data = open(\"input.txt\").read().split(\"\\n\")"
   ]
  },
  {
   "cell_type": "markdown",
   "metadata": {},
   "source": [
    "# Part 1"
   ]
  },
  {
   "cell_type": "code",
   "execution_count": 45,
   "metadata": {},
   "outputs": [],
   "source": [
    "# test\n",
    "def prepare_data(data, filter=True):\n",
    "    data = [el for el in data if el != \"\"]\n",
    "    values = [np.array(re.split(\",|->\", row.replace(\" \", \"\")), dtype=int) for row in data]\n",
    "\n",
    "    # filter to horizontal/vertical\n",
    "    columns = [\"x1\", \"y1\", \"x2\", \"y2\"]\n",
    "    df = pd.DataFrame(values, columns=columns, dtype=int)\n",
    "\n",
    "    if filter:\n",
    "        df.query(\"x1 == x2 | y1 == y2\", inplace=True)\n",
    "\n",
    "    return df\n",
    "\n",
    "\n",
    "def extract_points(row):\n",
    "    if row.x1 == row.x2:\n",
    "        step = 1 if row.y2 > row.y1 else -1\n",
    "        return [(row.x1, y) for y in range(row.y1, row.y2 + step, step)]\n",
    "    elif row.y1 == row.y2:\n",
    "        step = 1 if row.x2 > row.x1 else -1\n",
    "        return [(x, row.y1) for x in range(row.x1, row.x2 + step, step)]\n",
    "    else:\n",
    "        k = (row.y2 - row.y1) / (row.x2 - row.x1)\n",
    "        n = row.y1 - k * row.x1\n",
    "        min_x, max_x = sorted([row.x1, row.x2])\n",
    "        return [(x, int(k * x + n)) for x in range(min_x, max_x + 1)]\n",
    "\n",
    "\n",
    "df = prepare_data(test_data)\n",
    "points = [str(pt) for pt_list in df.apply(extract_points, axis=1) for pt in pt_list]\n",
    "assert (pd.Series(points).value_counts() >= 2).sum() == 5"
   ]
  },
  {
   "cell_type": "code",
   "execution_count": 46,
   "metadata": {},
   "outputs": [
    {
     "data": {
      "text/plain": [
       "6113"
      ]
     },
     "execution_count": 46,
     "metadata": {},
     "output_type": "execute_result"
    }
   ],
   "source": [
    "# real\n",
    "df = prepare_data(data)\n",
    "points = [str(pt) for pt_list in df.apply(extract_points, axis=1) for pt in pt_list]\n",
    "(pd.Series(points).value_counts() >= 2).sum()"
   ]
  },
  {
   "cell_type": "markdown",
   "metadata": {},
   "source": [
    "# Part 2"
   ]
  },
  {
   "cell_type": "code",
   "execution_count": 50,
   "metadata": {},
   "outputs": [],
   "source": [
    "# test\n",
    "df = prepare_data(test_data, filter=False)\n",
    "points = [str(pt) for pt_list in df.apply(extract_points, axis=1) for pt in pt_list]\n",
    "assert (pd.Series(points).value_counts() >= 2).sum() == 12"
   ]
  },
  {
   "cell_type": "code",
   "execution_count": 51,
   "metadata": {},
   "outputs": [
    {
     "data": {
      "text/plain": [
       "20373"
      ]
     },
     "execution_count": 51,
     "metadata": {},
     "output_type": "execute_result"
    }
   ],
   "source": [
    "# real\n",
    "df = prepare_data(data, filter=False)\n",
    "points = [str(pt) for pt_list in df.apply(extract_points, axis=1) for pt in pt_list]\n",
    "(pd.Series(points).value_counts() >= 2).sum()"
   ]
  }
 ],
 "metadata": {
  "interpreter": {
   "hash": "397440ca27dd4f2db3754d30213d67198d7f32c89d82a8ff28a1eadbf5e56d70"
  },
  "kernelspec": {
   "display_name": "Python 3.8.7 64-bit ('advent': pyenv)",
   "language": "python",
   "name": "python3"
  },
  "language_info": {
   "codemirror_mode": {
    "name": "ipython",
    "version": 3
   },
   "file_extension": ".py",
   "mimetype": "text/x-python",
   "name": "python",
   "nbconvert_exporter": "python",
   "pygments_lexer": "ipython3",
   "version": "3.8.7"
  },
  "orig_nbformat": 4
 },
 "nbformat": 4,
 "nbformat_minor": 2
}
