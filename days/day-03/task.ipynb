{
 "cells": [
  {
   "cell_type": "code",
   "execution_count": 1,
   "metadata": {},
   "outputs": [],
   "source": [
    "# imports\n",
    "import pandas as pd"
   ]
  },
  {
   "cell_type": "code",
   "execution_count": 2,
   "metadata": {},
   "outputs": [],
   "source": [
    "# inputs\n",
    "test_data = pd.read_csv(\"input-test.csv\", dtype=\"str\", names=[\"report\"])\n",
    "data = pd.read_csv(\"input.csv\", dtype=\"str\", names=[\"report\"])"
   ]
  },
  {
   "cell_type": "markdown",
   "metadata": {},
   "source": [
    "# Part 1"
   ]
  },
  {
   "cell_type": "code",
   "execution_count": 3,
   "metadata": {},
   "outputs": [],
   "source": [
    "# test\n",
    "df = test_data.copy()\n",
    "\n",
    "\n",
    "# convert to split list\n",
    "def return_most_common(series, position, switch=False):\n",
    "    return series.apply(lambda x: x[position]).value_counts().sort_values(ascending=switch).index[0]\n",
    "\n",
    "\n",
    "positions = len(df.report.iloc[0])\n",
    "gamma_rate_str = \"\".join([return_most_common(df.report, i, switch=False) for i in range(positions)])\n",
    "epsilon_rate_str = \"\".join([return_most_common(df.report, i, switch=True) for i in range(positions)])\n",
    "\n",
    "gamma_rate = int(gamma_rate_str, 2)\n",
    "epsilon_rate = int(epsilon_rate_str, 2)\n",
    "\n",
    "assert gamma_rate * epsilon_rate == 198"
   ]
  },
  {
   "cell_type": "code",
   "execution_count": 4,
   "metadata": {},
   "outputs": [
    {
     "data": {
      "text/plain": [
       "4103154"
      ]
     },
     "execution_count": 4,
     "metadata": {},
     "output_type": "execute_result"
    }
   ],
   "source": [
    "# real\n",
    "df = data.copy()\n",
    "\n",
    "positions = len(df.report.iloc[0])\n",
    "gamma_rate_str = \"\".join([return_most_common(df.report, i, switch=False) for i in range(positions)])\n",
    "epsilon_rate_str = \"\".join([return_most_common(df.report, i, switch=True) for i in range(positions)])\n",
    "\n",
    "gamma_rate = int(gamma_rate_str, 2)\n",
    "epsilon_rate = int(epsilon_rate_str, 2)\n",
    "\n",
    "gamma_rate * epsilon_rate"
   ]
  },
  {
   "cell_type": "markdown",
   "metadata": {},
   "source": [
    "# Part 2"
   ]
  },
  {
   "cell_type": "code",
   "execution_count": 6,
   "metadata": {},
   "outputs": [],
   "source": [
    "# test\n",
    "df = test_data.copy()\n",
    "\n",
    "\n",
    "def keep_most_common(series, position=0, switch=False):\n",
    "    if len(series) == 1:\n",
    "        return series.values[0]\n",
    "\n",
    "    if len(series) == 2:\n",
    "        val_to_keep = \"1\" if not switch else \"0\"\n",
    "        return series.values[0] if series.values[0][position] == val_to_keep else series.values[1]\n",
    "\n",
    "    val = return_most_common(series, position, switch)\n",
    "    mask = series.apply(lambda x: x[position] == val)\n",
    "    series = series[mask]\n",
    "\n",
    "    return keep_most_common(series, position + 1, switch)\n",
    "\n",
    "\n",
    "oxygen_generator_rating = int(keep_most_common(df.report), 2)\n",
    "co2_scrubber_rating = int(keep_most_common(df.report, switch=True), 2)\n",
    "\n",
    "assert oxygen_generator_rating * co2_scrubber_rating == 230"
   ]
  },
  {
   "cell_type": "code",
   "execution_count": 7,
   "metadata": {},
   "outputs": [
    {
     "data": {
      "text/plain": [
       "4245351"
      ]
     },
     "execution_count": 7,
     "metadata": {},
     "output_type": "execute_result"
    }
   ],
   "source": [
    "# real\n",
    "df = data.copy()\n",
    "\n",
    "oxygen_generator_rating = int(keep_most_common(df.report), 2)\n",
    "co2_scrubber_rating = int(keep_most_common(df.report, switch=True), 2)\n",
    "\n",
    "oxygen_generator_rating * co2_scrubber_rating"
   ]
  }
 ],
 "metadata": {
  "interpreter": {
   "hash": "397440ca27dd4f2db3754d30213d67198d7f32c89d82a8ff28a1eadbf5e56d70"
  },
  "kernelspec": {
   "display_name": "Python 3.8.7 64-bit ('advent': pyenv)",
   "language": "python",
   "name": "python3"
  },
  "language_info": {
   "codemirror_mode": {
    "name": "ipython",
    "version": 3
   },
   "file_extension": ".py",
   "mimetype": "text/x-python",
   "name": "python",
   "nbconvert_exporter": "python",
   "pygments_lexer": "ipython3",
   "version": "3.8.7"
  },
  "orig_nbformat": 4
 },
 "nbformat": 4,
 "nbformat_minor": 2
}
