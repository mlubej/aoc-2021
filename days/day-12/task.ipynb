{
 "cells": [
  {
   "cell_type": "code",
   "execution_count": 2,
   "metadata": {},
   "outputs": [],
   "source": [
    "# imports\n",
    "import numpy as np\n",
    "import pandas as pd"
   ]
  },
  {
   "cell_type": "code",
   "execution_count": 3,
   "metadata": {},
   "outputs": [],
   "source": [
    "# inputs\n",
    "test_data_a = np.array([edge.split(\"-\") for edge in open(\"input-test_a.txt\").read().split(\"\\n\")])\n",
    "test_data_b = np.array([edge.split(\"-\") for edge in open(\"input-test_b.txt\").read().split(\"\\n\")])\n",
    "test_data_c = np.array([edge.split(\"-\") for edge in open(\"input-test_c.txt\").read().split(\"\\n\")])\n",
    "data = np.array([edge.split(\"-\") for edge in open(\"input.txt\").read().split(\"\\n\")])"
   ]
  },
  {
   "cell_type": "markdown",
   "metadata": {},
   "source": [
    "# Part 1"
   ]
  },
  {
   "cell_type": "code",
   "execution_count": 4,
   "metadata": {},
   "outputs": [],
   "source": [
    "# test\n",
    "\n",
    "\n",
    "def traverse_paths(edges, path=None, path_collection=None, start=\"start\", end=\"end\"):\n",
    "    if path is None:\n",
    "        path = [start]\n",
    "        path_collection = set()\n",
    "\n",
    "    next_nodes = {left if right == path[-1] else right for left, right in edges if path[-1] in [left, right]}\n",
    "    for node in next_nodes:\n",
    "        if node.islower() and node in path:\n",
    "            continue\n",
    "\n",
    "        if node == end:\n",
    "            path_collection |= {\",\".join(path + [node])}\n",
    "            continue\n",
    "\n",
    "        path_collection = traverse_paths(edges, path + [node], path_collection)\n",
    "\n",
    "    return path_collection\n",
    "\n",
    "\n",
    "assert len(traverse_paths(test_data_a.copy())) == 10\n",
    "assert len(traverse_paths(test_data_b.copy())) == 19\n",
    "assert len(traverse_paths(test_data_c.copy())) == 226"
   ]
  },
  {
   "cell_type": "code",
   "execution_count": 5,
   "metadata": {},
   "outputs": [
    {
     "data": {
      "text/plain": [
       "4378"
      ]
     },
     "execution_count": 5,
     "metadata": {},
     "output_type": "execute_result"
    }
   ],
   "source": [
    "# real\n",
    "array = data.copy()\n",
    "len(traverse_paths(array))"
   ]
  },
  {
   "cell_type": "markdown",
   "metadata": {},
   "source": [
    "# Part 2"
   ]
  },
  {
   "cell_type": "code",
   "execution_count": 16,
   "metadata": {},
   "outputs": [],
   "source": [
    "# test\n",
    "\n",
    "\n",
    "def traverse_paths_2(edges, path=None, path_collection=None, allowed_cave=None, start=\"start\", end=\"end\"):\n",
    "    if path is None:\n",
    "        path = [start]\n",
    "        path_collection = set()\n",
    "\n",
    "    next_nodes = {left if right == path[-1] else right for left, right in edges if path[-1] in [left, right]}\n",
    "    for node in next_nodes:\n",
    "        if node == allowed_cave:\n",
    "            if path.count(allowed_cave) > 1:\n",
    "                continue\n",
    "        else:\n",
    "            if node.islower() and node in path:\n",
    "                continue\n",
    "\n",
    "        if node == end:\n",
    "            path_collection |= {\",\".join(path + [node])}\n",
    "            continue\n",
    "\n",
    "        path_collection = traverse_paths_2(edges, path + [node], path_collection, allowed_cave)\n",
    "\n",
    "    return path_collection\n",
    "\n",
    "\n",
    "def traverse_paths_w_special(edges, start=\"start\", end=\"end\"):\n",
    "    allowed_small_caves = set(node for edge in edges for node in edge if node.islower()) - {start, end}\n",
    "\n",
    "    path_collection = set()\n",
    "    for allowed_cave in allowed_small_caves:\n",
    "        path_collection |= traverse_paths_2(edges, None, None, allowed_cave, start, end)\n",
    "\n",
    "    return path_collection\n",
    "\n",
    "\n",
    "assert len(traverse_paths_w_special(test_data_a.copy())) == 36\n",
    "assert len(traverse_paths_w_special(test_data_b.copy())) == 103\n",
    "assert len(traverse_paths_w_special(test_data_c.copy())) == 3509"
   ]
  },
  {
   "cell_type": "code",
   "execution_count": 17,
   "metadata": {},
   "outputs": [
    {
     "data": {
      "text/plain": [
       "133621"
      ]
     },
     "execution_count": 17,
     "metadata": {},
     "output_type": "execute_result"
    }
   ],
   "source": [
    "# real\n",
    "array = data.copy()\n",
    "len(traverse_paths_w_special(array))"
   ]
  }
 ],
 "metadata": {
  "interpreter": {
   "hash": "397440ca27dd4f2db3754d30213d67198d7f32c89d82a8ff28a1eadbf5e56d70"
  },
  "kernelspec": {
   "display_name": "Python 3.8.7 64-bit ('advent': pyenv)",
   "language": "python",
   "name": "python3"
  },
  "language_info": {
   "codemirror_mode": {
    "name": "ipython",
    "version": 3
   },
   "file_extension": ".py",
   "mimetype": "text/x-python",
   "name": "python",
   "nbconvert_exporter": "python",
   "pygments_lexer": "ipython3",
   "version": "3.8.7"
  },
  "orig_nbformat": 4
 },
 "nbformat": 4,
 "nbformat_minor": 2
}
