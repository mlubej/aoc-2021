{
 "cells": [
  {
   "cell_type": "code",
   "execution_count": 1,
   "metadata": {},
   "outputs": [],
   "source": [
    "# imports\n",
    "import numpy as np\n",
    "import pandas as pd"
   ]
  },
  {
   "cell_type": "code",
   "execution_count": 62,
   "metadata": {},
   "outputs": [],
   "source": [
    "# inputs\n",
    "test_data = open(\"input-test.txt\").read().replace(\"|\\n\", \"| \").split(\"\\n\")\n",
    "data = open(\"input.txt\").read().replace(\"|\\n\", \"| \").split(\"\\n\")"
   ]
  },
  {
   "cell_type": "markdown",
   "metadata": {},
   "source": [
    "# Part 1"
   ]
  },
  {
   "cell_type": "code",
   "execution_count": 3,
   "metadata": {},
   "outputs": [],
   "source": [
    "# test\n",
    "array = test_data.copy()\n",
    "output_digits = [digit for entry in array for digit in entry.split(\"|\")[-1].strip().split(\" \")]\n",
    "\n",
    "# keep only 1 (2 seg), 4 (4 seg), 7 (3 seg), and 8 (7 seg)\n",
    "seg_counts = [2, 3, 4, 7]\n",
    "assert np.count_nonzero([len(digit) in seg_counts for digit in output_digits]) == 26"
   ]
  },
  {
   "cell_type": "code",
   "execution_count": 4,
   "metadata": {},
   "outputs": [
    {
     "data": {
      "text/plain": [
       "349"
      ]
     },
     "execution_count": 4,
     "metadata": {},
     "output_type": "execute_result"
    }
   ],
   "source": [
    "# real\n",
    "array = data.copy()\n",
    "output_digits = [digit for entry in array for digit in entry.split(\"|\")[-1].strip().split(\" \")]\n",
    "\n",
    "np.count_nonzero([len(digit) in seg_counts for digit in output_digits])"
   ]
  },
  {
   "cell_type": "markdown",
   "metadata": {},
   "source": [
    "# Part 2"
   ]
  },
  {
   "cell_type": "code",
   "execution_count": 63,
   "metadata": {},
   "outputs": [],
   "source": [
    "# test\n",
    "array = test_data.copy()\n",
    "\n",
    "output_digits = [[digit for digit in entry.split(\"|\")[-1].strip().split(\" \")] for entry in array]\n",
    "\n",
    "digits = \"abcdefg\"\n",
    "originals = {\n",
    "    \"abcefg\": 0,\n",
    "    \"cf\": 1,\n",
    "    \"acdeg\": 2,\n",
    "    \"acdfg\": 3,\n",
    "    \"bcdf\": 4,\n",
    "    \"abdfg\": 5,\n",
    "    \"abdefg\": 6,\n",
    "    \"acf\": 7,\n",
    "    \"abcdefg\": 8,\n",
    "    \"abcdfg\": 9,\n",
    "}\n",
    "\n",
    "segment_candidates = {digit: [val for val in originals.keys() if digit in val] for digit in digits}\n",
    "signature_map = {\"\".join(sorted([str(len(cand)) for cand in segment_candidates[digit]])): digit for digit in digits}\n",
    "\n",
    "\n",
    "def decoder(entry, signature_map=signature_map):\n",
    "    input_segments = [digit for digit in entry.split(\"|\")[0].strip().split(\" \")]\n",
    "    segment_candidates = {digit: [val for val in input_segments if digit in val] for digit in digits}\n",
    "    segment_signatures = {\n",
    "        digit: \"\".join(sorted([str(len(cand)) for cand in segment_candidates[digit]])) for digit in digits\n",
    "    }\n",
    "    return {digit: signature_map[segment_signatures[digit]] for digit in digits}\n",
    "\n",
    "\n",
    "def read_output(entry):\n",
    "    output_segments = [digit for digit in entry.split(\"|\")[-1].strip().split(\" \")]\n",
    "    decoder_map = decoder(entry, signature_map)\n",
    "    decoded_output = [\"\".join([decoder_map[digit] for digit in seg]) for seg in output_segments]\n",
    "    converted_output = [\n",
    "        str([val for key, val in originals.items() if set(key) == set(num)][0]) for num in decoded_output\n",
    "    ]\n",
    "    return int(\"\".join(converted_output))\n",
    "\n",
    "\n",
    "assert np.sum([read_output(entry) for entry in array]) == 61229"
   ]
  },
  {
   "cell_type": "code",
   "execution_count": 65,
   "metadata": {},
   "outputs": [
    {
     "data": {
      "text/plain": [
       "1070957"
      ]
     },
     "execution_count": 65,
     "metadata": {},
     "output_type": "execute_result"
    }
   ],
   "source": [
    "# real\n",
    "array = data.copy()\n",
    "np.sum([read_output(entry) for entry in array])"
   ]
  }
 ],
 "metadata": {
  "interpreter": {
   "hash": "397440ca27dd4f2db3754d30213d67198d7f32c89d82a8ff28a1eadbf5e56d70"
  },
  "kernelspec": {
   "display_name": "Python 3.8.7 64-bit ('advent': pyenv)",
   "language": "python",
   "name": "python3"
  },
  "language_info": {
   "codemirror_mode": {
    "name": "ipython",
    "version": 3
   },
   "file_extension": ".py",
   "mimetype": "text/x-python",
   "name": "python",
   "nbconvert_exporter": "python",
   "pygments_lexer": "ipython3",
   "version": "3.8.7"
  },
  "orig_nbformat": 4
 },
 "nbformat": 4,
 "nbformat_minor": 2
}
