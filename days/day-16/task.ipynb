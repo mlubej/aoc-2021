{
 "cells": [
  {
   "cell_type": "code",
   "execution_count": 54,
   "metadata": {},
   "outputs": [],
   "source": [
    "# imports\n",
    "import json\n",
    "import re\n",
    "\n",
    "import numpy as np"
   ]
  },
  {
   "cell_type": "code",
   "execution_count": 95,
   "metadata": {},
   "outputs": [],
   "source": [
    "# inputs\n",
    "test_data = open(\"input-test.txt\").read().split(\"\\n\")\n",
    "data = open(\"input.txt\").read()"
   ]
  },
  {
   "cell_type": "markdown",
   "metadata": {},
   "source": [
    "# Part 1"
   ]
  },
  {
   "cell_type": "code",
   "execution_count": 110,
   "metadata": {},
   "outputs": [],
   "source": [
    "# test\n",
    "content = test_data\n",
    "\n",
    "\n",
    "def hex2bin(hex_string):\n",
    "    binary = [bin(int(char, 16))[2:] for char in hex_string]\n",
    "    binary = [(4 - len(char)) * \"0\" + char for char in binary]\n",
    "    return \"\".join(binary)\n",
    "\n",
    "\n",
    "def sum_versions(binary, version_sum=0):\n",
    "    if binary == \"\" or set(list(binary)) == {\"0\"}:\n",
    "        return binary, version_sum\n",
    "\n",
    "    remainder = None\n",
    "    version = int(binary[:3], 2)\n",
    "    type_id = int(binary[3:6], 2)\n",
    "    data = binary[6:]\n",
    "    version_sum += version\n",
    "\n",
    "    if type_id == 4:\n",
    "        groups = []\n",
    "        chunks = [data[i : i + 5] for i in range(0, len(data), 5)]\n",
    "        while len(chunks) > 0:\n",
    "            if chunks[0][0] == \"1\":\n",
    "                groups.append(chunks.pop(0)[1:])\n",
    "            else:\n",
    "                groups.append(chunks.pop(0)[1:])\n",
    "                break\n",
    "        literal = int(\"\".join(groups), 2)\n",
    "        remainder = \"\".join(chunks)\n",
    "    else:\n",
    "        length_id, data = data[0], data[1:]\n",
    "        if length_id == \"0\":\n",
    "            subpacket_length, data = data[:15], data[15:]\n",
    "            subpacket_length = int(subpacket_length, 2)\n",
    "            subpacket_content, remainder = data[:subpacket_length], data[subpacket_length:]\n",
    "            while not (subpacket_content == \"\" or set(list(subpacket_content)) == {\"0\"}):\n",
    "                subpacket_content, version_sum = sum_versions(subpacket_content, version_sum)\n",
    "            remainder = subpacket_content + remainder\n",
    "        else:\n",
    "            num_subpackets, remainder = data[:11], data[11:]\n",
    "            num_subpackets = int(num_subpackets, 2)\n",
    "            count = 0\n",
    "            while count < num_subpackets:\n",
    "                remainder, version_sum = sum_versions(remainder, version_sum)\n",
    "                count += 1\n",
    "\n",
    "    return remainder, version_sum\n",
    "\n",
    "\n",
    "version_sums = [6, 9, 14, 16, 12, 23, 31]\n",
    "for idx, (c, s) in enumerate(zip(content, version_sums)):\n",
    "    assert sum_versions(hex2bin(c))[-1] == s"
   ]
  },
  {
   "cell_type": "code",
   "execution_count": 111,
   "metadata": {},
   "outputs": [
    {
     "data": {
      "text/plain": [
       "953"
      ]
     },
     "execution_count": 111,
     "metadata": {},
     "output_type": "execute_result"
    }
   ],
   "source": [
    "# real\n",
    "content = data\n",
    "sum_versions(hex2bin(content))[-1]"
   ]
  },
  {
   "cell_type": "markdown",
   "metadata": {},
   "source": [
    "# Part 2"
   ]
  },
  {
   "cell_type": "code",
   "execution_count": 119,
   "metadata": {},
   "outputs": [],
   "source": [
    "# inputs\n",
    "test_data = open(\"input-test-pt2.txt\").read().split(\"\\n\")\n",
    "data = open(\"input.txt\").read()"
   ]
  },
  {
   "cell_type": "code",
   "execution_count": 122,
   "metadata": {},
   "outputs": [],
   "source": [
    "# test\n",
    "content = test_data\n",
    "\n",
    "\n",
    "def eval_bits(binary, expression_eval=None):\n",
    "    if binary == \"\" or set(list(binary)) == {\"0\"}:\n",
    "        return binary, expression_eval\n",
    "\n",
    "    remainder = None\n",
    "    type_id = int(binary[3:6], 2)\n",
    "    data = binary[6:]\n",
    "\n",
    "    if type_id == 4:\n",
    "        groups = []\n",
    "        chunks = [data[i : i + 5] for i in range(0, len(data), 5)]\n",
    "        while len(chunks) > 0:\n",
    "            if chunks[0][0] == \"1\":\n",
    "                groups.append(chunks.pop(0)[1:])\n",
    "            else:\n",
    "                groups.append(chunks.pop(0)[1:])\n",
    "                break\n",
    "        literal = int(\"\".join(groups), 2)\n",
    "        remainder = \"\".join(chunks)\n",
    "        return remainder, literal\n",
    "    else:\n",
    "        values = []\n",
    "        length_id, data = data[0], data[1:]\n",
    "        if length_id == \"0\":\n",
    "            subpacket_length, data = data[:15], data[15:]\n",
    "            subpacket_length = int(subpacket_length, 2)\n",
    "            subpacket_content, remainder = data[:subpacket_length], data[subpacket_length:]\n",
    "            while not (subpacket_content == \"\" or set(list(subpacket_content)) == {\"0\"}):\n",
    "                subpacket_content, value = eval_bits(subpacket_content, expression_eval)\n",
    "                values.append(value)\n",
    "            remainder = subpacket_content + remainder\n",
    "        else:\n",
    "            num_subpackets, remainder = data[:11], data[11:]\n",
    "            num_subpackets = int(num_subpackets, 2)\n",
    "            count = 0\n",
    "            while count < num_subpackets:\n",
    "                remainder, value = eval_bits(remainder, expression_eval)\n",
    "                values.append(value)\n",
    "                count += 1\n",
    "\n",
    "        if type_id == 0:\n",
    "            expression_eval = np.sum(values)\n",
    "        elif type_id == 1:\n",
    "            expression_eval = np.prod(values)\n",
    "        elif type_id == 2:\n",
    "            expression_eval = np.min(values)\n",
    "        elif type_id == 3:\n",
    "            expression_eval = np.max(values)\n",
    "        elif type_id == 5:\n",
    "            expression_eval = 1 if values[0] > values[1] else 0\n",
    "        elif type_id == 6:\n",
    "            expression_eval = 1 if values[0] < values[1] else 0\n",
    "        elif type_id == 7:\n",
    "            expression_eval = 1 if values[0] == values[1] else 0\n",
    "\n",
    "    return remainder, expression_eval\n",
    "\n",
    "\n",
    "values = [3, 54, 7, 9, 1, 0, 0, 1]\n",
    "for idx, (c, v) in enumerate(zip(content, values)):\n",
    "    assert eval_bits(hex2bin(c))[-1] == v"
   ]
  },
  {
   "cell_type": "code",
   "execution_count": 124,
   "metadata": {},
   "outputs": [
    {
     "data": {
      "text/plain": [
       "246225449979"
      ]
     },
     "execution_count": 124,
     "metadata": {},
     "output_type": "execute_result"
    }
   ],
   "source": [
    "# real\n",
    "content = data\n",
    "eval_bits(hex2bin(content))[-1]"
   ]
  }
 ],
 "metadata": {
  "interpreter": {
   "hash": "397440ca27dd4f2db3754d30213d67198d7f32c89d82a8ff28a1eadbf5e56d70"
  },
  "kernelspec": {
   "display_name": "Python 3.8.7 64-bit ('advent': pyenv)",
   "language": "python",
   "name": "python3"
  },
  "language_info": {
   "codemirror_mode": {
    "name": "ipython",
    "version": 3
   },
   "file_extension": ".py",
   "mimetype": "text/x-python",
   "name": "python",
   "nbconvert_exporter": "python",
   "pygments_lexer": "ipython3",
   "version": "3.8.7"
  },
  "orig_nbformat": 4
 },
 "nbformat": 4,
 "nbformat_minor": 2
}
