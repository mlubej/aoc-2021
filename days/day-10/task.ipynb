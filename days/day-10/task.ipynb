{
 "cells": [
  {
   "cell_type": "code",
   "execution_count": 2,
   "metadata": {},
   "outputs": [],
   "source": [
    "# imports\n",
    "import numpy as np\n",
    "import pandas as pd"
   ]
  },
  {
   "cell_type": "code",
   "execution_count": 5,
   "metadata": {},
   "outputs": [],
   "source": [
    "# inputs\n",
    "test_data = open(\"input-test.txt\").read().split(\"\\n\")\n",
    "data = open(\"input.txt\").read().split(\"\\n\")"
   ]
  },
  {
   "cell_type": "markdown",
   "metadata": {},
   "source": [
    "# Part 1"
   ]
  },
  {
   "cell_type": "code",
   "execution_count": 37,
   "metadata": {},
   "outputs": [],
   "source": [
    "# test\n",
    "array = test_data.copy()\n",
    "\n",
    "pairs_dict = {\"(\": \")\", \"[\": \"]\", \"{\": \"}\", \"<\": \">\"}\n",
    "pairs_dict.update({val: key for key, val in pairs_dict.items()})\n",
    "\n",
    "scores_dict = {\")\": 3, \"]\": 57, \"}\": 1197, \">\": 25137}\n",
    "\n",
    "\n",
    "def check_syntax(array):\n",
    "    matches = []\n",
    "    for char in array:\n",
    "        if char in [\"(\", \"[\", \"{\", \"<\"]:\n",
    "            matches.append(char)\n",
    "            continue\n",
    "        elif char == pairs_dict[matches[-1]]:\n",
    "            matches.pop(-1)\n",
    "            continue\n",
    "        else:\n",
    "            return char\n",
    "    return matches\n",
    "\n",
    "\n",
    "results = [check_syntax(entry) for entry in array]\n",
    "scores = [scores_dict[res] for res in results if isinstance(res, str)]\n",
    "assert np.sum(scores) == 26397"
   ]
  },
  {
   "cell_type": "code",
   "execution_count": 39,
   "metadata": {},
   "outputs": [
    {
     "data": {
      "text/plain": [
       "311949"
      ]
     },
     "execution_count": 39,
     "metadata": {},
     "output_type": "execute_result"
    }
   ],
   "source": [
    "# real\n",
    "array = data.copy()\n",
    "\n",
    "results = [check_syntax(entry) for entry in array]\n",
    "scores = [scores_dict[res] for res in results if isinstance(res, str)]\n",
    "np.sum(scores)"
   ]
  },
  {
   "cell_type": "markdown",
   "metadata": {},
   "source": [
    "# Part 2"
   ]
  },
  {
   "cell_type": "code",
   "execution_count": 65,
   "metadata": {},
   "outputs": [],
   "source": [
    "# test\n",
    "array = test_data.copy()\n",
    "\n",
    "scores_dict = {\")\": 1, \"]\": 2, \"}\": 3, \">\": 4}\n",
    "\n",
    "\n",
    "def remainder_syntax(array):\n",
    "    remaining_matches = check_syntax(array)\n",
    "    if isinstance(remaining_matches, list):\n",
    "        matches = [pairs_dict[el] for el in remaining_matches]\n",
    "        return \"\".join(matches[::-1])\n",
    "\n",
    "\n",
    "def points_calculator(scores, factor=5):\n",
    "    total = 0\n",
    "    for score in scores:\n",
    "        total = (total * factor) + score\n",
    "\n",
    "    return total\n",
    "\n",
    "\n",
    "results = [remainder_syntax(entry) for entry in array]\n",
    "scores = [[scores_dict[char] for char in res] for res in results if res is not None]\n",
    "\n",
    "assert np.median([points_calculator(score) for score in scores]).astype(int) == 288957"
   ]
  },
  {
   "cell_type": "code",
   "execution_count": 66,
   "metadata": {},
   "outputs": [
    {
     "data": {
      "text/plain": [
       "3042730309"
      ]
     },
     "execution_count": 66,
     "metadata": {},
     "output_type": "execute_result"
    }
   ],
   "source": [
    "# real\n",
    "array = data.copy()\n",
    "\n",
    "results = [remainder_syntax(entry) for entry in array]\n",
    "scores = [[scores_dict[char] for char in res] for res in results if res is not None]\n",
    "\n",
    "np.median([points_calculator(score) for score in scores]).astype(int)"
   ]
  }
 ],
 "metadata": {
  "interpreter": {
   "hash": "397440ca27dd4f2db3754d30213d67198d7f32c89d82a8ff28a1eadbf5e56d70"
  },
  "kernelspec": {
   "display_name": "Python 3.8.7 64-bit ('advent': pyenv)",
   "language": "python",
   "name": "python3"
  },
  "language_info": {
   "codemirror_mode": {
    "name": "ipython",
    "version": 3
   },
   "file_extension": ".py",
   "mimetype": "text/x-python",
   "name": "python",
   "nbconvert_exporter": "python",
   "pygments_lexer": "ipython3",
   "version": "3.8.7"
  },
  "orig_nbformat": 4
 },
 "nbformat": 4,
 "nbformat_minor": 2
}
