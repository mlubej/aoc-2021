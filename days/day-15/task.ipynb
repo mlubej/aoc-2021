{
 "cells": [
  {
   "cell_type": "code",
   "execution_count": 14,
   "metadata": {},
   "outputs": [],
   "source": [
    "# imports\n",
    "import heapq\n",
    "import re\n",
    "\n",
    "import numpy as np\n",
    "import pandas as pd"
   ]
  },
  {
   "cell_type": "code",
   "execution_count": 2,
   "metadata": {},
   "outputs": [],
   "source": [
    "# inputs\n",
    "test_data = open(\"input-test.txt\").read()\n",
    "data = open(\"input.txt\").read()"
   ]
  },
  {
   "cell_type": "markdown",
   "metadata": {},
   "source": [
    "# Part 1"
   ]
  },
  {
   "cell_type": "code",
   "execution_count": 7,
   "metadata": {},
   "outputs": [],
   "source": [
    "# test\n",
    "content = test_data\n",
    "\n",
    "\n",
    "def parse_input(content):\n",
    "    array = np.array(list(map(list, content.split(\"\\n\"))), dtype=int)\n",
    "    return array\n",
    "\n",
    "\n",
    "# https://en.wikipedia.org/wiki/Dijkstra%27s_algorithm#Algorithm\n",
    "def find_optimal_path_djikstra(array, fill_value=99999):\n",
    "    current = (0, 0)\n",
    "    end = tuple(np.array(array.shape) - [1, 1])\n",
    "    cost_from_zero = np.full_like(array, fill_value=fill_value, dtype=int)\n",
    "    cost_from_zero[current] = 0\n",
    "    unvisited = {(x, y) for x in range(array.shape[1]) for y in range(array.shape[0])}\n",
    "\n",
    "    while True:\n",
    "        neighbors = set((current[0] + x, current[1] + y) for x, y in [[-1, 0], [1, 0], [0, -1], [0, 1]])\n",
    "        neighbors &= unvisited\n",
    "\n",
    "        ccost = cost_from_zero[current]\n",
    "        for nb in neighbors:\n",
    "            if ccost + array[nb] < cost_from_zero[nb]:\n",
    "                cost_from_zero[nb] = ccost + array[nb]\n",
    "\n",
    "        unvisited -= {current}\n",
    "        init_cands = {node for node in unvisited if cost_from_zero[node] == fill_value}\n",
    "        if current == end or len(unvisited) == len(init_cands):\n",
    "            break\n",
    "\n",
    "        current = sorted(unvisited - init_cands, key=lambda x: cost_from_zero[x])[0]\n",
    "\n",
    "    return cost_from_zero[end]\n",
    "\n",
    "\n",
    "array = parse_input(content)\n",
    "assert find_optimal_path_djikstra(array) == 40"
   ]
  },
  {
   "cell_type": "code",
   "execution_count": 42,
   "metadata": {},
   "outputs": [],
   "source": [
    "# from https://bradfieldcs.com/algos/graphs/dijkstras-algorithm/\n",
    "\n",
    "\n",
    "def create_graph(array):\n",
    "    return {\n",
    "        f\"a_{x}_{y}\": {\n",
    "            f\"a_{x+i}_{y+j}\": array[y + j][x + i]\n",
    "            for i, j in [[-1, 0], [1, 0], [0, -1], [0, 1]]\n",
    "            if x + i >= 0 and y + j >= 0 and x + i < array.shape[1] and y + j < array.shape[0]\n",
    "        }\n",
    "        for x in range(array.shape[1])\n",
    "        for y in range(array.shape[0])\n",
    "    }\n",
    "\n",
    "\n",
    "def calculate_distances(graph, starting_vertex):\n",
    "    distances = {vertex: float(\"infinity\") for vertex in graph}\n",
    "    distances[starting_vertex] = 0\n",
    "\n",
    "    pq = [(0, starting_vertex)]\n",
    "    while len(pq) > 0:\n",
    "        current_distance, current_vertex = heapq.heappop(pq)\n",
    "\n",
    "        # Nodes can get added to the priority queue multiple times. We only\n",
    "        # process a vertex the first time we remove it from the priority queue.\n",
    "        if current_distance > distances[current_vertex]:\n",
    "            continue\n",
    "\n",
    "        for neighbor, weight in graph[current_vertex].items():\n",
    "            distance = current_distance + weight\n",
    "\n",
    "            # Only consider this new path if it's better than any path we've\n",
    "            # already found.\n",
    "            if distance < distances[neighbor]:\n",
    "                distances[neighbor] = distance\n",
    "                heapq.heappush(pq, (distance, neighbor))\n",
    "\n",
    "    return distances"
   ]
  },
  {
   "cell_type": "code",
   "execution_count": 43,
   "metadata": {},
   "outputs": [],
   "source": [
    "# test\n",
    "content = test_data\n",
    "array = parse_input(content)\n",
    "graph = create_graph(array)\n",
    "end_node = f\"a_{array.shape[1]-1}_{array.shape[0]-1}\"\n",
    "assert calculate_distances(graph, \"a_0_0\")[end_node] == 40"
   ]
  },
  {
   "cell_type": "code",
   "execution_count": 44,
   "metadata": {},
   "outputs": [
    {
     "data": {
      "text/plain": [
       "702"
      ]
     },
     "execution_count": 44,
     "metadata": {},
     "output_type": "execute_result"
    }
   ],
   "source": [
    "# real\n",
    "content = data\n",
    "array = parse_input(content)\n",
    "graph = create_graph(array)\n",
    "end_node = f\"a_{array.shape[1]-1}_{array.shape[0]-1}\"\n",
    "calculate_distances(graph, \"a_0_0\")[end_node]"
   ]
  },
  {
   "cell_type": "markdown",
   "metadata": {},
   "source": [
    "# Part 2"
   ]
  },
  {
   "cell_type": "code",
   "execution_count": 45,
   "metadata": {},
   "outputs": [],
   "source": [
    "# test\n",
    "content = test_data\n",
    "\n",
    "\n",
    "def parse_input(content, extend=(1, 1)):\n",
    "    array = np.array(list(map(list, content.split(\"\\n\"))), dtype=int)\n",
    "    multi_array = [[(array + i + j - 1) % 9 + 1 for i in range(extend[0])] for j in range(extend[1])]\n",
    "    return np.block(multi_array)\n",
    "\n",
    "\n",
    "array = parse_input(content, extend=(5, 5))\n",
    "graph = create_graph(array)\n",
    "end_node = f\"a_{array.shape[1]-1}_{array.shape[0]-1}\"\n",
    "assert calculate_distances(graph, \"a_0_0\")[end_node] == 315"
   ]
  },
  {
   "cell_type": "code",
   "execution_count": 47,
   "metadata": {},
   "outputs": [
    {
     "data": {
      "text/plain": [
       "2955"
      ]
     },
     "execution_count": 47,
     "metadata": {},
     "output_type": "execute_result"
    }
   ],
   "source": [
    "# real\n",
    "content = data\n",
    "array = parse_input(content, extend=(5, 5))\n",
    "graph = create_graph(array)\n",
    "end_node = f\"a_{array.shape[1]-1}_{array.shape[0]-1}\"\n",
    "calculate_distances(graph, \"a_0_0\")[end_node]"
   ]
  }
 ],
 "metadata": {
  "interpreter": {
   "hash": "397440ca27dd4f2db3754d30213d67198d7f32c89d82a8ff28a1eadbf5e56d70"
  },
  "kernelspec": {
   "display_name": "Python 3.8.7 64-bit ('advent': pyenv)",
   "language": "python",
   "name": "python3"
  },
  "language_info": {
   "codemirror_mode": {
    "name": "ipython",
    "version": 3
   },
   "file_extension": ".py",
   "mimetype": "text/x-python",
   "name": "python",
   "nbconvert_exporter": "python",
   "pygments_lexer": "ipython3",
   "version": "3.8.7"
  },
  "orig_nbformat": 4
 },
 "nbformat": 4,
 "nbformat_minor": 2
}
