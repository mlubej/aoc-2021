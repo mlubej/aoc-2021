{
 "cells": [
  {
   "cell_type": "code",
   "execution_count": 1,
   "metadata": {},
   "outputs": [],
   "source": [
    "# imports\n",
    "import numpy as np\n",
    "import pandas as pd"
   ]
  },
  {
   "cell_type": "code",
   "execution_count": 2,
   "metadata": {},
   "outputs": [],
   "source": [
    "# inputs\n",
    "test_data = np.loadtxt(\"input-test.txt\", delimiter=\",\").astype(int)\n",
    "data = np.loadtxt(\"input.txt\", delimiter=\",\").astype(int)"
   ]
  },
  {
   "cell_type": "markdown",
   "metadata": {},
   "source": [
    "# Part 1"
   ]
  },
  {
   "cell_type": "code",
   "execution_count": 3,
   "metadata": {},
   "outputs": [],
   "source": [
    "# test\n",
    "array = test_data.copy()\n",
    "\n",
    "\n",
    "def run_generations(array, days, timer_standard=6, timer_new=8):\n",
    "    while days > 0:\n",
    "        to_spawn = array == 0\n",
    "\n",
    "        array -= 1\n",
    "        array[to_spawn] = timer_standard\n",
    "        array = np.append(array, len(array[to_spawn]) * [timer_new])\n",
    "\n",
    "        days -= 1\n",
    "\n",
    "    return len(array)\n",
    "\n",
    "\n",
    "assert run_generations(array, 80) == 5934"
   ]
  },
  {
   "cell_type": "code",
   "execution_count": 4,
   "metadata": {},
   "outputs": [
    {
     "data": {
      "text/plain": [
       "374994"
      ]
     },
     "execution_count": 4,
     "metadata": {},
     "output_type": "execute_result"
    }
   ],
   "source": [
    "# real\n",
    "array = data.copy()\n",
    "run_generations(array, 80)"
   ]
  },
  {
   "cell_type": "markdown",
   "metadata": {},
   "source": [
    "# Part 2"
   ]
  },
  {
   "cell_type": "code",
   "execution_count": 5,
   "metadata": {},
   "outputs": [],
   "source": [
    "# test\n",
    "array = test_data.copy()\n",
    "\n",
    "\n",
    "def run_generations_fast(array, days, timer_standard=6, timer_new=8):\n",
    "    before_counts = {num: np.count_nonzero(array == num) if num in array else 0 for num in range(timer_new + 1)}\n",
    "    after_counts = {}\n",
    "\n",
    "    while days > 0:\n",
    "        for i in range(timer_new):\n",
    "            after_counts[i] = before_counts[i + 1]\n",
    "\n",
    "        after_counts[timer_new] = before_counts[0]\n",
    "        after_counts[timer_standard] += before_counts[0]\n",
    "\n",
    "        before_counts = after_counts.copy()\n",
    "        days -= 1\n",
    "\n",
    "    return sum(after_counts.values())\n",
    "\n",
    "\n",
    "assert run_generations_fast(array, 256) == 26984457539"
   ]
  },
  {
   "cell_type": "code",
   "execution_count": 6,
   "metadata": {},
   "outputs": [
    {
     "data": {
      "text/plain": [
       "1686252324092"
      ]
     },
     "execution_count": 6,
     "metadata": {},
     "output_type": "execute_result"
    }
   ],
   "source": [
    "# real\n",
    "array = data.copy()\n",
    "run_generations_fast(array, 256)"
   ]
  }
 ],
 "metadata": {
  "interpreter": {
   "hash": "397440ca27dd4f2db3754d30213d67198d7f32c89d82a8ff28a1eadbf5e56d70"
  },
  "kernelspec": {
   "display_name": "Python 3.8.7 64-bit ('advent': pyenv)",
   "language": "python",
   "name": "python3"
  },
  "language_info": {
   "codemirror_mode": {
    "name": "ipython",
    "version": 3
   },
   "file_extension": ".py",
   "mimetype": "text/x-python",
   "name": "python",
   "nbconvert_exporter": "python",
   "pygments_lexer": "ipython3",
   "version": "3.8.7"
  },
  "orig_nbformat": 4
 },
 "nbformat": 4,
 "nbformat_minor": 2
}
