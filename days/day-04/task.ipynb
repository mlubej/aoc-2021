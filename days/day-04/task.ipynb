{
 "cells": [
  {
   "cell_type": "code",
   "execution_count": 1,
   "metadata": {},
   "outputs": [],
   "source": [
    "# imports\n",
    "import re\n",
    "\n",
    "import numpy as np\n",
    "import pandas as pd"
   ]
  },
  {
   "cell_type": "code",
   "execution_count": 2,
   "metadata": {},
   "outputs": [],
   "source": [
    "# inputs\n",
    "test_data = open(\"input-test.csv\").read().split(\"\\n\\n\")\n",
    "data = open(\"input.csv\").read().split(\"\\n\\n\")"
   ]
  },
  {
   "cell_type": "markdown",
   "metadata": {},
   "source": [
    "# Part 1"
   ]
  },
  {
   "cell_type": "code",
   "execution_count": 16,
   "metadata": {},
   "outputs": [],
   "source": [
    "# test\n",
    "numbers, *boards = test_data\n",
    "\n",
    "\n",
    "def string2board(string):\n",
    "    array = re.findall(\"[0-9]+\", string)\n",
    "    array = np.array(array, dtype=int)\n",
    "    n = int(len(array) ** 0.5)\n",
    "    return np.ma.masked_array(array.reshape(n, n), mask=np.zeros((n, n)))\n",
    "\n",
    "\n",
    "numbers = np.array(numbers.split(\",\"), dtype=int)\n",
    "boards = list(map(string2board, boards))\n",
    "\n",
    "\n",
    "def mark_number(boards, number):\n",
    "    boards_out = []\n",
    "    for board in boards:\n",
    "        boards_out.append(np.ma.masked_equal(board, number))\n",
    "\n",
    "    return boards_out\n",
    "\n",
    "\n",
    "def check_winners(boards):\n",
    "    winners = []\n",
    "    for idx, board in enumerate(boards):\n",
    "        if board.mask.all(axis=0).any() or board.mask.all(axis=1).any():\n",
    "            winners.append({\"idx\": idx, \"board\": board})\n",
    "\n",
    "    return winners\n",
    "\n",
    "\n",
    "def play_bingo(boards, numbers):\n",
    "    for number in numbers:\n",
    "        boards = mark_number(boards, number)\n",
    "        winners = check_winners(boards)\n",
    "\n",
    "        if len(winners) > 0:\n",
    "            assert len(winners) == 1, \"More than one winner?\"\n",
    "            return winners[0][\"board\"].sum() * number\n",
    "\n",
    "\n",
    "assert play_bingo(boards, numbers) == 4512"
   ]
  },
  {
   "cell_type": "code",
   "execution_count": 4,
   "metadata": {},
   "outputs": [
    {
     "data": {
      "text/plain": [
       "63552"
      ]
     },
     "execution_count": 4,
     "metadata": {},
     "output_type": "execute_result"
    }
   ],
   "source": [
    "# real\n",
    "numbers, *boards = data\n",
    "numbers = np.array(numbers.split(\",\"), dtype=int)\n",
    "boards = list(map(string2board, boards))\n",
    "\n",
    "play_bingo(boards, numbers)"
   ]
  },
  {
   "cell_type": "markdown",
   "metadata": {},
   "source": [
    "# Part 2"
   ]
  },
  {
   "cell_type": "code",
   "execution_count": 30,
   "metadata": {},
   "outputs": [],
   "source": [
    "# test\n",
    "numbers, *boards = test_data\n",
    "numbers = np.array(numbers.split(\",\"), dtype=int)\n",
    "boards = list(map(string2board, boards))\n",
    "\n",
    "\n",
    "def play_bingo_until_last(boards, numbers):\n",
    "    for number in numbers:\n",
    "        boards = mark_number(boards, number)\n",
    "        winners = check_winners(boards)\n",
    "\n",
    "        if len(winners) > 0:\n",
    "            if len(boards) == 1:\n",
    "                return boards[0].sum() * number\n",
    "\n",
    "            winner_ids = [winner[\"idx\"] for winner in winners]\n",
    "            boards = [board for idx, board in enumerate(boards) if idx not in winner_ids]\n",
    "\n",
    "\n",
    "assert play_bingo_until_last(boards, numbers) == 1924"
   ]
  },
  {
   "cell_type": "code",
   "execution_count": 32,
   "metadata": {},
   "outputs": [
    {
     "data": {
      "text/plain": [
       "9020"
      ]
     },
     "execution_count": 32,
     "metadata": {},
     "output_type": "execute_result"
    }
   ],
   "source": [
    "# real\n",
    "numbers, *boards = data\n",
    "numbers = np.array(numbers.split(\",\"), dtype=int)\n",
    "boards = list(map(string2board, boards))\n",
    "\n",
    "play_bingo_until_last(boards, numbers)"
   ]
  }
 ],
 "metadata": {
  "interpreter": {
   "hash": "397440ca27dd4f2db3754d30213d67198d7f32c89d82a8ff28a1eadbf5e56d70"
  },
  "kernelspec": {
   "display_name": "Python 3.8.7 64-bit ('advent': pyenv)",
   "language": "python",
   "name": "python3"
  },
  "language_info": {
   "codemirror_mode": {
    "name": "ipython",
    "version": 3
   },
   "file_extension": ".py",
   "mimetype": "text/x-python",
   "name": "python",
   "nbconvert_exporter": "python",
   "pygments_lexer": "ipython3",
   "version": "3.8.7"
  },
  "orig_nbformat": 4
 },
 "nbformat": 4,
 "nbformat_minor": 2
}
