{
 "cells": [
  {
   "cell_type": "code",
   "execution_count": 1,
   "metadata": {},
   "outputs": [],
   "source": [
    "# imports\n",
    "import numpy as np"
   ]
  },
  {
   "cell_type": "code",
   "execution_count": 2,
   "metadata": {},
   "outputs": [],
   "source": [
    "# inputs\n",
    "test_data = np.loadtxt(\"input-test.txt\", delimiter=\",\").astype(int)\n",
    "data = np.loadtxt(\"input.txt\", delimiter=\",\").astype(int)"
   ]
  },
  {
   "cell_type": "markdown",
   "metadata": {},
   "source": [
    "# Part 1"
   ]
  },
  {
   "cell_type": "code",
   "execution_count": 3,
   "metadata": {},
   "outputs": [],
   "source": [
    "# test\n",
    "array = test_data.copy()\n",
    "\n",
    "opt_point = np.median(array)\n",
    "assert np.abs(array - opt_point).sum() == 37"
   ]
  },
  {
   "cell_type": "code",
   "execution_count": 4,
   "metadata": {},
   "outputs": [
    {
     "data": {
      "text/plain": [
       "340056"
      ]
     },
     "execution_count": 4,
     "metadata": {},
     "output_type": "execute_result"
    }
   ],
   "source": [
    "# real\n",
    "array = data.copy()\n",
    "\n",
    "opt_point = np.median(array)\n",
    "np.abs(array - opt_point).sum().astype(int)"
   ]
  },
  {
   "cell_type": "markdown",
   "metadata": {},
   "source": [
    "# Part 2"
   ]
  },
  {
   "cell_type": "code",
   "execution_count": 5,
   "metadata": {},
   "outputs": [],
   "source": [
    "# test\n",
    "array = test_data.copy()\n",
    "\n",
    "\n",
    "def fuel_cost(pos, opt):\n",
    "    d = np.abs(pos - opt)\n",
    "    return d * (d + 1) / 2\n",
    "\n",
    "\n",
    "point_candidates = range(min(array), max(array))\n",
    "scenarios = [fuel_cost(array, point).sum() for point in point_candidates]\n",
    "\n",
    "assert scenarios[np.argmin(scenarios)] == 168"
   ]
  },
  {
   "cell_type": "code",
   "execution_count": 6,
   "metadata": {},
   "outputs": [
    {
     "data": {
      "text/plain": [
       "96592275"
      ]
     },
     "execution_count": 6,
     "metadata": {},
     "output_type": "execute_result"
    }
   ],
   "source": [
    "# real\n",
    "array = data.copy()\n",
    "\n",
    "point_candidates = range(min(array), max(array))\n",
    "scenarios = [fuel_cost(array, point).sum() for point in point_candidates]\n",
    "\n",
    "scenarios[np.argmin(scenarios)].astype(int)"
   ]
  }
 ],
 "metadata": {
  "interpreter": {
   "hash": "397440ca27dd4f2db3754d30213d67198d7f32c89d82a8ff28a1eadbf5e56d70"
  },
  "kernelspec": {
   "display_name": "Python 3.8.7 64-bit ('advent': pyenv)",
   "language": "python",
   "name": "python3"
  },
  "language_info": {
   "codemirror_mode": {
    "name": "ipython",
    "version": 3
   },
   "file_extension": ".py",
   "mimetype": "text/x-python",
   "name": "python",
   "nbconvert_exporter": "python",
   "pygments_lexer": "ipython3",
   "version": "3.8.7"
  },
  "orig_nbformat": 4
 },
 "nbformat": 4,
 "nbformat_minor": 2
}
