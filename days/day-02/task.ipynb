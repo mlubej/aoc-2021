{
 "cells": [
  {
   "cell_type": "code",
   "execution_count": 1,
   "metadata": {},
   "outputs": [],
   "source": [
    "# imports\n",
    "import pandas as pd"
   ]
  },
  {
   "cell_type": "code",
   "execution_count": 2,
   "metadata": {},
   "outputs": [],
   "source": [
    "# inputs\n",
    "test_data = pd.read_csv(\"input-test.csv\", delimiter=\" \", header=None, names=[\"direction\", \"value\"])\n",
    "data = pd.read_csv(\"input.csv\", delimiter=\" \", header=None, names=[\"direction\", \"value\"])"
   ]
  },
  {
   "cell_type": "markdown",
   "metadata": {},
   "source": [
    "# Part 1"
   ]
  },
  {
   "cell_type": "code",
   "execution_count": 3,
   "metadata": {},
   "outputs": [],
   "source": [
    "# test\n",
    "df = test_data.copy()\n",
    "y = df.query('direction==\"down\"').value.sum() - df.query('direction==\"up\"').value.sum()\n",
    "x = df.query('direction==\"forward\"').value.sum()\n",
    "assert x == 15\n",
    "assert y == 10"
   ]
  },
  {
   "cell_type": "code",
   "execution_count": 4,
   "metadata": {},
   "outputs": [
    {
     "data": {
      "text/plain": [
       "1484118"
      ]
     },
     "execution_count": 4,
     "metadata": {},
     "output_type": "execute_result"
    }
   ],
   "source": [
    "# real\n",
    "df = data.copy()\n",
    "y = df.query('direction==\"down\"').value.sum() - df.query('direction==\"up\"').value.sum()\n",
    "x = df.query('direction==\"forward\"').value.sum()\n",
    "x * y"
   ]
  },
  {
   "cell_type": "markdown",
   "metadata": {},
   "source": [
    "# Part 2"
   ]
  },
  {
   "cell_type": "code",
   "execution_count": 62,
   "metadata": {},
   "outputs": [],
   "source": [
    "# test\n",
    "df = test_data.copy()\n",
    "\n",
    "\n",
    "def cast_to_2d(row):\n",
    "    direction, value = row.direction, row.value\n",
    "    if direction == \"down\":\n",
    "        return [0, value]\n",
    "    elif direction == \"up\":\n",
    "        return [0, -value]\n",
    "    else:\n",
    "        return [value, 0]\n",
    "\n",
    "\n",
    "# convert to df\n",
    "moves_list = df.apply(cast_to_2d, axis=1).values.tolist()\n",
    "moves_df = pd.DataFrame(moves_list, columns=[\"forward\", \"aim\"])\n",
    "\n",
    "# accumulate aim\n",
    "moves_df[\"aim\"] = moves_df[\"aim\"].cumsum()\n",
    "\n",
    "# drop rows with no forward movement\n",
    "moves_df.query(\"forward != 0\", inplace=True)\n",
    "\n",
    "x = moves_df.eval(\"forward\").sum()\n",
    "y = moves_df.eval(\"forward*aim\").sum()\n",
    "\n",
    "assert x == 15\n",
    "assert y == 60"
   ]
  },
  {
   "cell_type": "code",
   "execution_count": 63,
   "metadata": {},
   "outputs": [
    {
     "data": {
      "text/plain": [
       "1463827010"
      ]
     },
     "execution_count": 63,
     "metadata": {},
     "output_type": "execute_result"
    }
   ],
   "source": [
    "# real\n",
    "df = data.copy()\n",
    "\n",
    "# convert to df\n",
    "moves_list = df.apply(cast_to_2d, axis=1).values.tolist()\n",
    "moves_df = pd.DataFrame(moves_list, columns=[\"forward\", \"aim\"])\n",
    "\n",
    "# accumulate aim\n",
    "moves_df[\"aim\"] = moves_df[\"aim\"].cumsum()\n",
    "\n",
    "# drop rows with no forward movement\n",
    "moves_df.query(\"forward != 0\", inplace=True)\n",
    "\n",
    "x = moves_df.eval(\"forward\").sum()\n",
    "y = moves_df.eval(\"forward*aim\").sum()\n",
    "\n",
    "x * y"
   ]
  }
 ],
 "metadata": {
  "interpreter": {
   "hash": "397440ca27dd4f2db3754d30213d67198d7f32c89d82a8ff28a1eadbf5e56d70"
  },
  "kernelspec": {
   "display_name": "Python 3.8.7 64-bit ('advent': pyenv)",
   "language": "python",
   "name": "python3"
  },
  "language_info": {
   "codemirror_mode": {
    "name": "ipython",
    "version": 3
   },
   "file_extension": ".py",
   "mimetype": "text/x-python",
   "name": "python",
   "nbconvert_exporter": "python",
   "pygments_lexer": "ipython3",
   "version": "3.8.7"
  },
  "orig_nbformat": 4
 },
 "nbformat": 4,
 "nbformat_minor": 2
}
