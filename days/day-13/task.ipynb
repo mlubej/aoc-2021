{
 "cells": [
  {
   "cell_type": "code",
   "execution_count": 1,
   "metadata": {},
   "outputs": [],
   "source": [
    "# imports\n",
    "import re\n",
    "\n",
    "import matplotlib.pyplot as plt\n",
    "import numpy as np\n",
    "import pandas as pd"
   ]
  },
  {
   "cell_type": "code",
   "execution_count": 2,
   "metadata": {},
   "outputs": [],
   "source": [
    "# inputs\n",
    "test_data = open(\"input-test.txt\").read()\n",
    "data = open(\"input.txt\").read()"
   ]
  },
  {
   "cell_type": "markdown",
   "metadata": {},
   "source": [
    "# Part 1"
   ]
  },
  {
   "cell_type": "code",
   "execution_count": 7,
   "metadata": {},
   "outputs": [],
   "source": [
    "# test\n",
    "content = test_data\n",
    "\n",
    "\n",
    "def parse_input(content):\n",
    "    coords = np.array(re.findall(r\"([0-9]+),([0-9]+)\\n\", content), dtype=int)\n",
    "    coords = np.fliplr(coords)  # numpy has x and y flipped\n",
    "    instructions = [(axis, int(value)) for axis, value in re.findall(r\".*\\s([xy])=([0-9]+)\", content)]\n",
    "\n",
    "    matrix = np.zeros((max(coords[:, 0]) + 1, max(coords[:, 1]) + 1))\n",
    "    dots_mask = tuple(np.transpose(coords))\n",
    "    matrix[dots_mask] = 1\n",
    "    matrix = matrix.astype(int)\n",
    "\n",
    "    return matrix, instructions\n",
    "\n",
    "\n",
    "def pad_to_symmetry(matrix, axis, value):\n",
    "    if axis == \"x\":\n",
    "        dim = matrix.shape[1]\n",
    "        pad_amount = abs(int(dim - 2 * value - 1))\n",
    "        pad_x = (pad_amount, 0) if value < int(dim / 2) else (0, pad_amount)\n",
    "        matrix = np.pad(matrix, ((0, 0), pad_x), mode=\"constant\", constant_values=0)\n",
    "    else:\n",
    "        dim = matrix.shape[0]\n",
    "        pad_amount = abs(int(dim - 2 * value - 1))\n",
    "        pad_y = (pad_amount, 0) if value < int(dim / 2) else (0, pad_amount)\n",
    "        matrix = np.pad(matrix, (pad_y, (0, 0)), mode=\"constant\", constant_values=0)\n",
    "\n",
    "    return matrix\n",
    "\n",
    "\n",
    "def fold_matrix(content, n_folds=None):\n",
    "    matrix, instructions = parse_input(content)\n",
    "\n",
    "    if n_folds is not None:\n",
    "        instructions = instructions[:n_folds]\n",
    "\n",
    "    for axis, value in instructions:\n",
    "        matrix = pad_to_symmetry(matrix, axis, value)\n",
    "        if axis == \"x\":\n",
    "            a, b = matrix[:, :value], matrix[:, value + 1 :]\n",
    "            b = np.fliplr(b)\n",
    "        elif axis == \"y\":\n",
    "            a, b = matrix[:value], matrix[value + 1 :]\n",
    "            b = np.flipud(b)\n",
    "\n",
    "        matrix = np.logical_or(np.equal(a, 1), np.equal(b, 1)).astype(int)\n",
    "\n",
    "    return matrix\n",
    "\n",
    "\n",
    "assert np.count_nonzero(fold_matrix(content, 1)) == 17"
   ]
  },
  {
   "cell_type": "code",
   "execution_count": 8,
   "metadata": {},
   "outputs": [
    {
     "data": {
      "text/plain": [
       "666"
      ]
     },
     "execution_count": 8,
     "metadata": {},
     "output_type": "execute_result"
    }
   ],
   "source": [
    "# real\n",
    "content = data\n",
    "np.count_nonzero(fold_matrix(content, 1))"
   ]
  },
  {
   "cell_type": "markdown",
   "metadata": {},
   "source": [
    "# Part 2"
   ]
  },
  {
   "cell_type": "code",
   "execution_count": 9,
   "metadata": {},
   "outputs": [
    {
     "data": {
      "text/plain": [
       "<matplotlib.image.AxesImage at 0x125967970>"
      ]
     },
     "execution_count": 9,
     "metadata": {},
     "output_type": "execute_result"
    },
    {
     "data": {
      "image/png": "[encoded data removed]",
      "text/plain": [
       "<Figure size 432x288 with 1 Axes>"
      ]
     },
     "metadata": {
      "needs_background": "light"
     },
     "output_type": "display_data"
    }
   ],
   "source": [
    "# test\n",
    "content = test_data\n",
    "output = fold_matrix(content)\n",
    "plt.imshow(output, vmin=0, vmax=1)"
   ]
  },
  {
   "cell_type": "code",
   "execution_count": 10,
   "metadata": {},
   "outputs": [
    {
     "data": {
      "text/plain": [
       "<matplotlib.image.AxesImage at 0x1259c6af0>"
      ]
     },
     "execution_count": 10,
     "metadata": {},
     "output_type": "execute_result"
    },
    {
     "data": {
      "image/png": "[encoded data removed]",
      "text/plain": [
       "<Figure size 432x288 with 1 Axes>"
      ]
     },
     "metadata": {
      "needs_background": "light"
     },
     "output_type": "display_data"
    }
   ],
   "source": [
    "# real\n",
    "content = data\n",
    "output = fold_matrix(content)\n",
    "plt.imshow(output, vmin=0, vmax=1)"
   ]
  }
 ],
 "metadata": {
  "interpreter": {
   "hash": "397440ca27dd4f2db3754d30213d67198d7f32c89d82a8ff28a1eadbf5e56d70"
  },
  "kernelspec": {
   "display_name": "Python 3.8.7 64-bit ('advent': pyenv)",
   "language": "python",
   "name": "python3"
  },
  "language_info": {
   "codemirror_mode": {
    "name": "ipython",
    "version": 3
   },
   "file_extension": ".py",
   "mimetype": "text/x-python",
   "name": "python",
   "nbconvert_exporter": "python",
   "pygments_lexer": "ipython3",
   "version": "3.8.7"
  },
  "orig_nbformat": 4
 },
 "nbformat": 4,
 "nbformat_minor": 2
}
