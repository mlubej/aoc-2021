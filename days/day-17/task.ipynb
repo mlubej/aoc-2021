{
 "cells": [
  {
   "cell_type": "code",
   "execution_count": 1,
   "metadata": {},
   "outputs": [],
   "source": [
    "# imports\n",
    "import re\n",
    "\n",
    "import numpy as np\n",
    "from scipy.optimize import minimize"
   ]
  },
  {
   "cell_type": "code",
   "execution_count": 2,
   "metadata": {},
   "outputs": [],
   "source": [
    "# inputs\n",
    "test_data = np.array(\n",
    "    re.findall(\"^.*x=([0-9\\-]+)..([0-9\\-]+), y=([0-9\\-]+)..([0-9\\-]+)\", open(\"input-test.txt\").read())[0], dtype=int\n",
    ")\n",
    "data = np.array(\n",
    "    re.findall(\"^.*x=([0-9\\-]+)..([0-9\\-]+), y=([0-9\\-]+)..([0-9\\-]+)\", open(\"input.txt\").read())[0], dtype=int\n",
    ")"
   ]
  },
  {
   "cell_type": "markdown",
   "metadata": {},
   "source": [
    "# Part 1"
   ]
  },
  {
   "cell_type": "code",
   "execution_count": 20,
   "metadata": {},
   "outputs": [],
   "source": [
    "# test\n",
    "content = test_data\n",
    "\n",
    "\n",
    "def probe_step(x, y, vx, vy):\n",
    "    x += vx\n",
    "    y += vy\n",
    "    vx = 0 if vx == 0 else (vx - 1 if vx > 0 else vx + 1)\n",
    "    vy -= 1\n",
    "    return x, y, vx, vy\n",
    "\n",
    "\n",
    "def launch_probe(velocity, target_area):\n",
    "    x, y, vx, vy = 0, 0, *velocity\n",
    "    tx1, tx2, ty1, ty2 = target_area\n",
    "\n",
    "    ymax = None\n",
    "    while True:\n",
    "        x, y, vx, vy = probe_step(x, y, vx, vy)\n",
    "\n",
    "        if ymax is None or y > ymax:\n",
    "            ymax = y\n",
    "\n",
    "        if x >= tx1 and x <= tx2 and y >= ty1 and y <= ty2:\n",
    "            return ymax\n",
    "\n",
    "        if vx == 0 and y < ty1:\n",
    "            return None\n",
    "\n",
    "\n",
    "res = [[x, y, launch_probe((x, y), content)] for x in range(100) for y in range(100)]\n",
    "res = [r for r in res if r[-1] is not None]\n",
    "assert res[np.argmax(np.array(res)[:, -1])][-1] == 45"
   ]
  },
  {
   "cell_type": "code",
   "execution_count": 21,
   "metadata": {},
   "outputs": [
    {
     "data": {
      "text/plain": [
       "[24, 79, 3160]"
      ]
     },
     "execution_count": 21,
     "metadata": {},
     "output_type": "execute_result"
    }
   ],
   "source": [
    "# real\n",
    "content = data\n",
    "res = [[x, y, launch_probe((x, y), content)] for x in range(200) for y in range(200)]\n",
    "res = [r for r in res if r[-1] is not None]\n",
    "res[np.argmax(np.array(res)[:, -1])]"
   ]
  },
  {
   "cell_type": "markdown",
   "metadata": {},
   "source": [
    "# Part 2"
   ]
  },
  {
   "cell_type": "code",
   "execution_count": 24,
   "metadata": {},
   "outputs": [
    {
     "data": {
      "text/plain": [
       "True"
      ]
     },
     "execution_count": 24,
     "metadata": {},
     "output_type": "execute_result"
    }
   ],
   "source": [
    "# test\n",
    "content = test_data\n",
    "\n",
    "res = [[x, y, launch_probe((x, y), content)] for x in range(-100, 100) for y in range(-100, 100)]\n",
    "res = [r for r in res if r[-1] is not None]\n",
    "len(res) == 112"
   ]
  },
  {
   "cell_type": "code",
   "execution_count": 26,
   "metadata": {},
   "outputs": [
    {
     "data": {
      "text/plain": [
       "1928"
      ]
     },
     "execution_count": 26,
     "metadata": {},
     "output_type": "execute_result"
    }
   ],
   "source": [
    "# test\n",
    "content = data\n",
    "\n",
    "# i don't like this solution\n",
    "res = [[x, y, launch_probe((x, y), content)] for x in range(-200, 500) for y in range(-200, 200)]\n",
    "res = [r for r in res if r[-1] is not None]\n",
    "len(res)"
   ]
  }
 ],
 "metadata": {
  "interpreter": {
   "hash": "397440ca27dd4f2db3754d30213d67198d7f32c89d82a8ff28a1eadbf5e56d70"
  },
  "kernelspec": {
   "display_name": "Python 3.8.7 64-bit ('advent': pyenv)",
   "language": "python",
   "name": "python3"
  },
  "language_info": {
   "codemirror_mode": {
    "name": "ipython",
    "version": 3
   },
   "file_extension": ".py",
   "mimetype": "text/x-python",
   "name": "python",
   "nbconvert_exporter": "python",
   "pygments_lexer": "ipython3",
   "version": "3.8.7"
  },
  "orig_nbformat": 4
 },
 "nbformat": 4,
 "nbformat_minor": 2
}
