{
 "cells": [
  {
   "cell_type": "code",
   "execution_count": 1,
   "metadata": {},
   "outputs": [],
   "source": [
    "# imports\n",
    "import numpy as np\n",
    "import pandas as pd"
   ]
  },
  {
   "cell_type": "code",
   "execution_count": 6,
   "metadata": {},
   "outputs": [],
   "source": [
    "# inputs\n",
    "test_data = np.array(list(map(list, open(\"input-test.txt\").read().split(\"\\n\"))), dtype=int)\n",
    "data = np.array(list(map(list, open(\"input.txt\").read().split(\"\\n\"))), dtype=int)"
   ]
  },
  {
   "cell_type": "markdown",
   "metadata": {},
   "source": [
    "# Part 1"
   ]
  },
  {
   "cell_type": "code",
   "execution_count": 77,
   "metadata": {},
   "outputs": [],
   "source": [
    "# test\n",
    "array = test_data.copy()\n",
    "\n",
    "\n",
    "def get_neigbors(x, y, bounds=[-1, len(array)]):\n",
    "    nb_list = [[x + i, y + j] for i in range(-1, 2) for j in range(-1, 2)]\n",
    "    return [nb for nb in nb_list if not any(np.in1d(nb, bounds))]\n",
    "\n",
    "\n",
    "def iterate_steps(array, n_steps=5, trigger=9):\n",
    "    n_flashes = 0\n",
    "    while n_steps > 0:\n",
    "        array += 1\n",
    "\n",
    "        flashed_in_this_step = set()\n",
    "        while np.count_nonzero(array > trigger) > 0:\n",
    "            flash_mask = np.where(array > trigger)\n",
    "            flash_coords = set(tuple(coords) for coords in np.transpose(flash_mask))\n",
    "            flashed_in_this_step |= flash_coords\n",
    "            array[flash_mask] = 0\n",
    "\n",
    "            nb_coords = [tuple(nb_coords) for coords in flash_coords for nb_coords in get_neigbors(*coords)]\n",
    "            for coord, count in zip(*np.unique(nb_coords, axis=0, return_counts=True)):\n",
    "                if tuple(coord) in flashed_in_this_step:\n",
    "                    continue\n",
    "\n",
    "                array[tuple(coord)] += count\n",
    "\n",
    "        n_steps -= 1\n",
    "        n_flashes += len(flashed_in_this_step)\n",
    "\n",
    "    return array, n_flashes\n",
    "\n",
    "\n",
    "assert iterate_steps(array, 100)[-1] == 1656"
   ]
  },
  {
   "cell_type": "code",
   "execution_count": 79,
   "metadata": {},
   "outputs": [
    {
     "data": {
      "text/plain": [
       "1673"
      ]
     },
     "execution_count": 79,
     "metadata": {},
     "output_type": "execute_result"
    }
   ],
   "source": [
    "# real\n",
    "array = data.copy()\n",
    "iterate_steps(array, 100)[-1]"
   ]
  },
  {
   "cell_type": "markdown",
   "metadata": {},
   "source": [
    "# Part 2"
   ]
  },
  {
   "cell_type": "code",
   "execution_count": 81,
   "metadata": {},
   "outputs": [],
   "source": [
    "# test\n",
    "array = test_data.copy()\n",
    "\n",
    "\n",
    "def when_in_sync(array):\n",
    "    steps = 0\n",
    "    while not np.count_nonzero(array == 0) == array.size:\n",
    "        array, _ = iterate_steps(array, 1)\n",
    "        steps += 1\n",
    "\n",
    "    return steps\n",
    "\n",
    "\n",
    "assert when_in_sync(array) == 195"
   ]
  },
  {
   "cell_type": "code",
   "execution_count": 82,
   "metadata": {},
   "outputs": [
    {
     "data": {
      "text/plain": [
       "279"
      ]
     },
     "execution_count": 82,
     "metadata": {},
     "output_type": "execute_result"
    }
   ],
   "source": [
    "# real\n",
    "array = data.copy()\n",
    "when_in_sync(array)"
   ]
  }
 ],
 "metadata": {
  "interpreter": {
   "hash": "397440ca27dd4f2db3754d30213d67198d7f32c89d82a8ff28a1eadbf5e56d70"
  },
  "kernelspec": {
   "display_name": "Python 3.8.7 64-bit ('advent': pyenv)",
   "language": "python",
   "name": "python3"
  },
  "language_info": {
   "codemirror_mode": {
    "name": "ipython",
    "version": 3
   },
   "file_extension": ".py",
   "mimetype": "text/x-python",
   "name": "python",
   "nbconvert_exporter": "python",
   "pygments_lexer": "ipython3",
   "version": "3.8.7"
  },
  "orig_nbformat": 4
 },
 "nbformat": 4,
 "nbformat_minor": 2
}
